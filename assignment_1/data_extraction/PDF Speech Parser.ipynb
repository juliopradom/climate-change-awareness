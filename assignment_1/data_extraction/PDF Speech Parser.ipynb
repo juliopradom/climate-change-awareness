{
 "cells": [
  {
   "cell_type": "markdown",
   "id": "21d4a050",
   "metadata": {},
   "source": [
    "Turns out the 2021 speeches, at least the China one, have such bad pdf quality that normal pdf to text converters can't deal with it.\n",
    "\n",
    "So we're lovingly transforming everything to images, and then extracting the text from these images."
   ]
  },
  {
   "cell_type": "markdown",
   "id": "fdd2c167",
   "metadata": {},
   "source": [
    "## Transforming the bad quality pdf speech into an image"
   ]
  },
  {
   "cell_type": "markdown",
   "id": "a28af2d7",
   "metadata": {},
   "source": [
    "Installation steps for `pdf2image`:\n",
    "- install `pdf2image` via anaconda\n",
    "- install the underlying `poppler` package via `anaconda` as well --> that wey you don't need to specify a path to `poppler` in your code"
   ]
  },
  {
   "cell_type": "code",
   "execution_count": 14,
   "id": "c3dfe0ad",
   "metadata": {},
   "outputs": [],
   "source": [
    "from pdf2image import convert_from_path\n",
    "\n",
    "pages = convert_from_path('Statement_China_2021.pdf', 500)\n",
    "\n",
    "img_name_prefix = 'Statement_China_2021'\n",
    "counter = 1\n",
    "\n",
    "paths_to_images = []\n",
    "\n",
    "# saving each page of the faux-pdf speech as a separate image\n",
    "for page in pages:\n",
    "    current_path = f'{img_name_prefix}_{counter}.png'\n",
    "    # save image\n",
    "    page.save(current_path, 'PNG')\n",
    "    # store path reference in list for later\n",
    "    paths_to_images.append(current_path)\n",
    "    counter += 1"
   ]
  },
  {
   "cell_type": "code",
   "execution_count": 15,
   "id": "242da11b",
   "metadata": {},
   "outputs": [
    {
     "data": {
      "text/plain": [
       "['Statement_China_2021_1.png',\n",
       " 'Statement_China_2021_2.png',\n",
       " 'Statement_China_2021_3.png',\n",
       " 'Statement_China_2021_4.png',\n",
       " 'Statement_China_2021_5.png',\n",
       " 'Statement_China_2021_6.png']"
      ]
     },
     "execution_count": 15,
     "metadata": {},
     "output_type": "execute_result"
    }
   ],
   "source": [
    "paths_to_images"
   ]
  },
  {
   "cell_type": "markdown",
   "id": "584cf621",
   "metadata": {},
   "source": [
    "## Extracting the text from the images"
   ]
  },
  {
   "cell_type": "markdown",
   "id": "b049c4eb",
   "metadata": {},
   "source": [
    "Next, using `tesseract` to extract the text.\n",
    "\n",
    "Installation steps for this code to work (I have a Mac):\n",
    "- install `tesseract` via hombrew\n",
    "- set the environment path to your local `tesseract` installation via `pytesseract.pytesseract.tesseract_cmd = r'/usr/local/bin/tesseract'`\n",
    "- set a `path_to_tesseract` var in your code, which will be used as the `pytesseract.tesseract_cmd` command\n",
    "- i hope i didn't miss anything"
   ]
  },
  {
   "cell_type": "code",
   "execution_count": 16,
   "id": "f06ccfe4",
   "metadata": {},
   "outputs": [],
   "source": [
    "from PIL import Image\n",
    "import pytesseract\n",
    "\n",
    "#---------------- TESSERACT SETUP ----------------\n",
    "# setting the tesseract path in the environment\n",
    "pytesseract.pytesseract.tesseract_cmd = r'/usr/local/bin/tesseract'\n",
    "\n",
    "# storing the path in a variable   \n",
    "local_tesseract_path = r'/usr/local/bin/tesseract'\n",
    "\n",
    "# letting the python tesseract wrapper library know where your tesseract installation is locally,\n",
    "# so that it knows which command to execute\n",
    "pytesseract.tesseract_cmd = local_tesseract_path"
   ]
  },
  {
   "cell_type": "code",
   "execution_count": 20,
   "id": "04e5f255",
   "metadata": {},
   "outputs": [],
   "source": [
    "#-------------- EXTRACTING IMAGE TEXT -------------\n",
    "full_speech_text = ''\n",
    "\n",
    "for path in paths_to_images:\n",
    "#     current_path = r\"Statement_China_2021-1.png\"\n",
    "    current_image = Image.open(r''+ path)\n",
    "    current_text = pytesseract.image_to_string(current_image)\n",
    "    full_speech_text = '\\n'.join([full_speech_text, current_text])\n"
   ]
  },
  {
   "cell_type": "code",
   "execution_count": 21,
   "id": "9a5a10b6",
   "metadata": {},
   "outputs": [
    {
     "data": {
      "text/plain": [
       "'\\n(Translation)\\n\\nBolstering Confidence and Jointly Overcoming Difficulties\\nTo Build a Better World\\n\\nStatement by H.E. Xi Jinping\\nPresident of the People’s Republic of China\\nAt the General Debate of the 76th Session of\\nThe United Nations General Assembly\\n\\n21 September 2021\\n\\nMr. President,\\n\\nThe year 2021 is a truly remarkable one for the Chinese people. This\\nyear marks the centenary of the Communist Party of China. It is also the\\n50th anniversary of the restoration of the lawful seat of the. People’s\\nRepublic-of China in the United Nations, a historic event which will be\\nsolemnly commemorated by China. We will continue our active efforts to\\ntake China’s cooperation with the United Nations to a new level and\\nmake new and greater contributions to advancing-the noble cause of the\\nUN.\\n\\nMr. President,\\n\\nA year ago, global leaders attended the high-level meetings marking\\nthe 75th anniversary of the UN and issued a declaration pledging to fight\\nCOVID-19 in solidarity, tackle challenges together, uphold\\nmultilateralism, strengthen the role of the UN, and work for the common\\nfuture of present and coming generations.\\n\\n1\\n\\nOne year on, our world is facing the combined impacts of changes\\nunseen in a century and the COVID-19 pandemic. In all countries, people\\nlong for peace and development more than ever before, their call for\\nequity and justice is growing stronger, and they are more determined in\\npursuing win-win cooperation. ,\\n\\nRight now, COVID-19 is still raging in the world, and profound\\nchanges are taking place in human society. The world has entered a\\nperiod of new turbulence and transformation. It falls on each and every\\nresponsible statesman to answer the questions of our times and make a\\nhistorical choice with confidence, courage and a sense of mission.\\n\\nFirst, we must beat COVID-19 and win this decisive fight crucial\\nto the future of humanity. The history of world civilization is also one\\nof fighting pandemics. Rising to challenges, humanity has always\\nemerged in triumph and achieved greater development and advancement.\\nThe current pandemic may appear overwhelming, but we humanity will\\nsurely overcome it and prevail.\\n\\nWe should always put people and their lives first, and care about: the\\nlife, value and dignity of every individual. We need to respect science,\\ntake a science-based approach, and follow the laws of science. We need\\nto both follow routine, targeted COVID-19 protocols and take emergency\\nresponse measures, and both carry out epidemic control and promote\\neconomic and social development. We need to enhance coordinated\\nglobal COVID-19 response and minimize the risk of cross-border virus\\ntransmission.\\n\\nVaccination is our powerful weapon against COVID-19, I have\\nstressed on many occasions the need to make vaccines a global public\\ngood and ensure vaccine accessibility and affordability in developing\\ncountries. Of pressing priority is to ensure the fair and equitable\\ndistribution of vaccines globally. China will strive to provide a total of\\ntwo billion doses of vaccines to the world by the end of this year. In\\n\\n2\\n\\naddition to donating 100 million US dollars to COVAX, China will\\ndonate 100 million doses of vaccines to other developing countries in the\\ncourse of this year. China will continue to support and engage in global\\nscience-based origins tracing, and stands firmly opposed to political\\nmaneuvering in whatever form.\\n\\nSecond, we must revitalize the economy and pursue more robust,\\ngreener and more balanced global development. Development holds\\nthe key to people’s well-being. Facing the severe shocks of COVID-19,\\nwe need to work together to steer global development toward a new stage\\nof balanced, coordinated and inclusive growth. To this end, 1 would like\\nto propose a Global Development Initiative.\\n\\n— Staying committed to development as a priority. We need to put\\ndevelopment high on the global macro policy agenda, strengthen policy\\ncoordination among major economies, and ensure policy continuity,\\nconsistency and sustainability. We need to foster global development\\npartnerships that are. more equal. and balanced, forge greater synergy\\namong multilateral development cooperation processes, and speed up the\\nimplementation of the UN 2030 Agenda for Sustainable Development.\\n\\n— Staying committed to a people-centered approach. We should\\nsafeguard and improve people’s livelihoods and protect and promote\\nhuman rights through development, and make sure that development is\\nfor the people and by the people, and that its fruits are shared among the\\npeople. We. should continue our work so that the people will have a\\ngreater sense of happiness, benefit and security, and achieve well-rounded\\ndevelopment.\\n\\n— Staying committed to benefits for all. We should care about the\\nspecial needs of developing countries. We may employ such means as\\ndebt suspension and development aid to help developing countries,\\nparticularly vulnerable ones facing exceptional difficulties, with emphasis\\non addressing unbalanced and inadequate development among and within\\ncountries.\\n\\n— Staying committed to innovation-driven development. We need\\nto seize the historic opportunities created by the latest round of\\ntechnological revolution and industrial transformation, redouble efforts to\\nharness technological achievements to boost productivity, and foster an\\nopen, fair, equitable and non-discriminatory environment for the\\ndevelopment of science and technology. We should foster new growth\\ndrivers in the post-COVID era and jointly achieve leapfrog development.\\n\\n— Staying committed to harmony between man and nature. We\\nneed to improve global environmental governance, actively respond to\\nclimate change and create a community of life for man and nature. We\\nneed to accelerate transition to a green and low-carbon economy and\\nachieve green recovery :and development: China will strive to peak\\ncarbon dioxide ‘emissions before 2030 and achieve carbon neutrality\\nbefore 2060. This requires tremendous hard work, and we will make\\nevery effort to meet these goals. China will step up support for other\\ndeveloping countries in developing green and low-carbon energy, and\\nwill not build new coal-fired power projects abroad. ,\\n\\n— Staying committed to results-oriented actions. We need to\\nincrease input in development, advance on:a priority basis cooperation on\\npoverty alleviation, food security, COVID-I9 response and vaccines,\\ndevelopment ‘financing, climate change and green development,\\nindustrialization, digital:economy and connectivity, among other areas,\\nand accelerate implementation of the UN 2030 Agenda for Sustainable\\nDevelopment, so as to build a ‘global community of development with a\\nshared future. China has pledged an additional three billion US dollars of\\ninternational assistance in the next three years to support developing\\ncountries in responding to COVID-19 and promoting economic and\\nsocial recovery. _ :\\n\\nThird, we must strengthen solidarity and promote mutual respect\\nand win-win cooperation in conducting international relations. A\\nworld of peace and development should embrace civilizations of various\\n\\n4\\n\\nforms, and must accommodate diverse paths to modernization.\\nDemocracy is not a special right reserved to an individual country, but a\\nright for the people of all countries to enjoy. Recent developments in the\\nglobal situation show once again that military intervention from the\\noutside and so-called democratic transformation entail nothing but harm.\\nWe need to advocate peace, development, equity, justice, democracy and\\nfreedom, which are the common values of humanity, and reject the\\npractice of forming small circles or zero-sum games.\\n\\nDifferences and problems among countries, hardly avoidable, need to\\nbe handled through dialogue and cooperation on the basis of equality and\\nmutual respect. One country’s success does not have to mean another\\ncountry’s failure, and the world is big enough to accommodate common\\ndevelopment and progress of all countries. We need to pursue dialogue\\nand mclusiveness over confrontation and exclusion. We need to build a\\nnew type of international relations based on mutual respect, equity, justice\\nand win-win cooperation, and do the best we can to expand the\\nconvergence of our interests and achieve the biggest synergy possible.\\n\\nThe Chinese people have always celebrated and striven to pursue the\\nvision of peace, amity and harmony, China has never and will never\\ninvade or bully others, or seek hegemony. China is always a builder of\\nworld peace, contributor to global development, defender of the\\ninternational order and provider of public goods. China will continue to\\nbring the world new opportunities through its new development.\\n\\nFourth, we must improve global governance and practice true\\nmultilateralism. In the world, there is only one international system, i.e.\\nthe international system with the United Nations at its core. There is only\\none international order, i.e. the international order underpinned by\\ninternational law. And there is only one set of rules, i.e. the basic norms\\ngoverning international relations underpinned by the purposes and\\nprinciples of the UN Charter.\\n\\nThe UN should hold high the banner of true multilateralism and serve\\n\\n5\\n\\nas the central platform for countries to jointly safeguard universal security,\\nshare development achievements and chart the course for the future of the\\nworld. The UN should stay committed to ensuring a stable international\\norder, increasing the representation and say of developing countries in\\ninternational affairs, and taking the lead in advancing democracy and rule\\nof law in internattonal relations. The UN should advance, in-a balanced\\nmanner, work in all the three areas of security, development and human\\nrights. It should set common agenda, highlight pressing issues and focus\\non real actions, and see to it that commitments made ae all ‘parties to\\nmultilateralism are truly delivered,\\n\\nMr. President,\\n\\nThe world is once again at a historical crossroads. I am convinced that\\nthe trend of peace, development and advancement for humanity is\\nirresistible. Let us bolster confidence and jointly address global threats\\nand challenges, and work together to build a community with a shared\\nfuture for mankind and a better world for all.\\n'"
      ]
     },
     "execution_count": 21,
     "metadata": {},
     "output_type": "execute_result"
    }
   ],
   "source": [
    "full_speech_text"
   ]
  },
  {
   "cell_type": "markdown",
   "id": "05b9a89f",
   "metadata": {},
   "source": [
    "## Cleaning extracted speech text"
   ]
  },
  {
   "cell_type": "code",
   "execution_count": 35,
   "id": "20189d0f",
   "metadata": {},
   "outputs": [],
   "source": [
    "import re\n",
    "\n",
    "def clean_text(speech, header_end_string):\n",
    "    full_speech_text_no_header = full_speech_text.split(header_end_string)[1]\n",
    "    \n",
    "    #replace newlines that point to a new line on the next page, sth like \\n\\n1 for starting on the second page\n",
    "    speech_no_page_break = re.sub(r'\\n\\n[0-9]', '\\n', full_speech_text_no_header)\n",
    "    \n",
    "    #matching multiple newline occurences and only replacing single newline occurences that break words across rows\n",
    "    speech_no_line_break = re.sub(r'([^\\S\\n]*\\n(?:[^\\S\\n]*\\n)+[^\\S\\n]*)|[^\\S\\n]*\\n[^\\S\\n]*', \n",
    "                                  lambda x: x.group(1) or ' ', speech_no_page_break) \n",
    "    \n",
    "    return speech_no_line_break\n",
    "    "
   ]
  },
  {
   "cell_type": "code",
   "execution_count": 36,
   "id": "326138bc",
   "metadata": {},
   "outputs": [
    {
     "data": {
      "text/plain": [
       "'\\n\\nMr. President,\\n\\nThe year 2021 is a truly remarkable one for the Chinese people. This year marks the centenary of the Communist Party of China. It is also the 50th anniversary of the restoration of the lawful seat of the. People’s Republic-of China in the United Nations, a historic event which will be solemnly commemorated by China. We will continue our active efforts to take China’s cooperation with the United Nations to a new level and make new and greater contributions to advancing-the noble cause of the UN.\\n\\nMr. President,\\n\\nA year ago, global leaders attended the high-level meetings marking the 75th anniversary of the UN and issued a declaration pledging to fight COVID-19 in solidarity, tackle challenges together, uphold multilateralism, strengthen the role of the UN, and work for the common future of present and coming generations.\\n\\n\\nOne year on, our world is facing the combined impacts of changes unseen in a century and the COVID-19 pandemic. In all countries, people long for peace and development more than ever before, their call for equity and justice is growing stronger, and they are more determined in pursuing win-win cooperation. ,\\n\\nRight now, COVID-19 is still raging in the world, and profound changes are taking place in human society. The world has entered a period of new turbulence and transformation. It falls on each and every responsible statesman to answer the questions of our times and make a historical choice with confidence, courage and a sense of mission.\\n\\nFirst, we must beat COVID-19 and win this decisive fight crucial to the future of humanity. The history of world civilization is also one of fighting pandemics. Rising to challenges, humanity has always emerged in triumph and achieved greater development and advancement. The current pandemic may appear overwhelming, but we humanity will surely overcome it and prevail.\\n\\nWe should always put people and their lives first, and care about: the life, value and dignity of every individual. We need to respect science, take a science-based approach, and follow the laws of science. We need to both follow routine, targeted COVID-19 protocols and take emergency response measures, and both carry out epidemic control and promote economic and social development. We need to enhance coordinated global COVID-19 response and minimize the risk of cross-border virus transmission.\\n\\nVaccination is our powerful weapon against COVID-19, I have stressed on many occasions the need to make vaccines a global public good and ensure vaccine accessibility and affordability in developing countries. Of pressing priority is to ensure the fair and equitable distribution of vaccines globally. China will strive to provide a total of two billion doses of vaccines to the world by the end of this year. In\\n\\n\\naddition to donating 100 million US dollars to COVAX, China will donate 100 million doses of vaccines to other developing countries in the course of this year. China will continue to support and engage in global science-based origins tracing, and stands firmly opposed to political maneuvering in whatever form.\\n\\nSecond, we must revitalize the economy and pursue more robust, greener and more balanced global development. Development holds the key to people’s well-being. Facing the severe shocks of COVID-19, we need to work together to steer global development toward a new stage of balanced, coordinated and inclusive growth. To this end, 1 would like to propose a Global Development Initiative.\\n\\n— Staying committed to development as a priority. We need to put development high on the global macro policy agenda, strengthen policy coordination among major economies, and ensure policy continuity, consistency and sustainability. We need to foster global development partnerships that are. more equal. and balanced, forge greater synergy among multilateral development cooperation processes, and speed up the implementation of the UN 2030 Agenda for Sustainable Development.\\n\\n— Staying committed to a people-centered approach. We should safeguard and improve people’s livelihoods and protect and promote human rights through development, and make sure that development is for the people and by the people, and that its fruits are shared among the people. We. should continue our work so that the people will have a greater sense of happiness, benefit and security, and achieve well-rounded development.\\n\\n— Staying committed to benefits for all. We should care about the special needs of developing countries. We may employ such means as debt suspension and development aid to help developing countries, particularly vulnerable ones facing exceptional difficulties, with emphasis on addressing unbalanced and inadequate development among and within countries.\\n\\n— Staying committed to innovation-driven development. We need to seize the historic opportunities created by the latest round of technological revolution and industrial transformation, redouble efforts to harness technological achievements to boost productivity, and foster an open, fair, equitable and non-discriminatory environment for the development of science and technology. We should foster new growth drivers in the post-COVID era and jointly achieve leapfrog development.\\n\\n— Staying committed to harmony between man and nature. We need to improve global environmental governance, actively respond to climate change and create a community of life for man and nature. We need to accelerate transition to a green and low-carbon economy and achieve green recovery :and development: China will strive to peak carbon dioxide ‘emissions before 2030 and achieve carbon neutrality before 2060. This requires tremendous hard work, and we will make every effort to meet these goals. China will step up support for other developing countries in developing green and low-carbon energy, and will not build new coal-fired power projects abroad. ,\\n\\n— Staying committed to results-oriented actions. We need to increase input in development, advance on:a priority basis cooperation on poverty alleviation, food security, COVID-I9 response and vaccines, development ‘financing, climate change and green development, industrialization, digital:economy and connectivity, among other areas, and accelerate implementation of the UN 2030 Agenda for Sustainable Development, so as to build a ‘global community of development with a shared future. China has pledged an additional three billion US dollars of international assistance in the next three years to support developing countries in responding to COVID-19 and promoting economic and social recovery. _ :\\n\\nThird, we must strengthen solidarity and promote mutual respect and win-win cooperation in conducting international relations. A world of peace and development should embrace civilizations of various\\n\\n\\nforms, and must accommodate diverse paths to modernization. Democracy is not a special right reserved to an individual country, but a right for the people of all countries to enjoy. Recent developments in the global situation show once again that military intervention from the outside and so-called democratic transformation entail nothing but harm. We need to advocate peace, development, equity, justice, democracy and freedom, which are the common values of humanity, and reject the practice of forming small circles or zero-sum games.\\n\\nDifferences and problems among countries, hardly avoidable, need to be handled through dialogue and cooperation on the basis of equality and mutual respect. One country’s success does not have to mean another country’s failure, and the world is big enough to accommodate common development and progress of all countries. We need to pursue dialogue and mclusiveness over confrontation and exclusion. We need to build a new type of international relations based on mutual respect, equity, justice and win-win cooperation, and do the best we can to expand the convergence of our interests and achieve the biggest synergy possible.\\n\\nThe Chinese people have always celebrated and striven to pursue the vision of peace, amity and harmony, China has never and will never invade or bully others, or seek hegemony. China is always a builder of world peace, contributor to global development, defender of the international order and provider of public goods. China will continue to bring the world new opportunities through its new development.\\n\\nFourth, we must improve global governance and practice true multilateralism. In the world, there is only one international system, i.e. the international system with the United Nations at its core. There is only one international order, i.e. the international order underpinned by international law. And there is only one set of rules, i.e. the basic norms governing international relations underpinned by the purposes and principles of the UN Charter.\\n\\nThe UN should hold high the banner of true multilateralism and serve\\n\\n\\nas the central platform for countries to jointly safeguard universal security, share development achievements and chart the course for the future of the world. The UN should stay committed to ensuring a stable international order, increasing the representation and say of developing countries in international affairs, and taking the lead in advancing democracy and rule of law in internattonal relations. The UN should advance, in-a balanced manner, work in all the three areas of security, development and human rights. It should set common agenda, highlight pressing issues and focus on real actions, and see to it that commitments made ae all ‘parties to multilateralism are truly delivered,\\n\\nMr. President,\\n\\nThe world is once again at a historical crossroads. I am convinced that the trend of peace, development and advancement for humanity is irresistible. Let us bolster confidence and jointly address global threats and challenges, and work together to build a community with a shared future for mankind and a better world for all. '"
      ]
     },
     "execution_count": 36,
     "metadata": {},
     "output_type": "execute_result"
    }
   ],
   "source": [
    "cleaned_speech = clean_text(full_speech_text, '21 September 2021')\n",
    "cleaned_speech"
   ]
  },
  {
   "cell_type": "markdown",
   "id": "eb37b139",
   "metadata": {},
   "source": [
    "## Writing the cleaned speech to .txt"
   ]
  },
  {
   "cell_type": "code",
   "execution_count": 37,
   "id": "5aa7226b",
   "metadata": {},
   "outputs": [],
   "source": [
    "with open(\"CHN_75_2021.txt\", \"w\") as text_file:\n",
    "    text_file.write(cleaned_speech)"
   ]
  },
  {
   "cell_type": "code",
   "execution_count": null,
   "id": "31592eec",
   "metadata": {},
   "outputs": [],
   "source": []
  }
 ],
 "metadata": {
  "kernelspec": {
   "display_name": "Python 3 (ipykernel)",
   "language": "python",
   "name": "python3"
  },
  "language_info": {
   "codemirror_mode": {
    "name": "ipython",
    "version": 3
   },
   "file_extension": ".py",
   "mimetype": "text/x-python",
   "name": "python",
   "nbconvert_exporter": "python",
   "pygments_lexer": "ipython3",
   "version": "3.7.6"
  }
 },
 "nbformat": 4,
 "nbformat_minor": 5
}
